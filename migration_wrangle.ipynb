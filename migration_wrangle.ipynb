{
 "cells": [
  {
   "cell_type": "code",
   "execution_count": 1,
   "metadata": {},
   "outputs": [],
   "source": [
    "import pandas as pd\n",
    "import numpy as np "
   ]
  },
  {
   "cell_type": "code",
   "execution_count": 5,
   "metadata": {},
   "outputs": [],
   "source": [
    "def handle_dat(path):\n",
    "    county = pd.read_csv(path, delimiter=';', header=None)\n",
    "    county = county.loc[:, 0].str.replace('[ ]{2,}', ' ').str.replace(' ', ',').str.replace('\\'', '')\n",
    "    \n",
    "    re = '([A-Z][a-z]+[\\D,\\s&-]*),'\n",
    "\n",
    "    descr = county.str.extract(re, expand=True)\n",
    "    descr = descr.loc[:, 0].str.replace(',', ' ')\n",
    "    \n",
    "    county = county.str.replace(re, '')\n",
    "    county = county.str.split(',', expand=True)\n",
    "    \n",
    "    county.loc[:, 9] = [i for i in descr]\n",
    "    county[[5, 6, 7, 8, 9]] = county[[9, 5, 6, 7, 8]]\n",
    "\n",
    "    return county.loc[:, 0:8], descr"
   ]
  },
  {
   "cell_type": "markdown",
   "metadata": {},
   "source": []
  },
  {
   "cell_type": "code",
   "execution_count": 8,
   "metadata": {},
   "outputs": [
    {
     "name": "stderr",
     "output_type": "stream",
     "text": [
      "C:\\Users\\TylerFrankenberg\\AppData\\Local\\Temp\\ipykernel_62260\\3874129161.py:3: FutureWarning: The default value of regex will change from True to False in a future version.\n",
      "  county = county.loc[:, 0].str.replace('[ ]{2,}', ' ').str.replace(' ', ',').str.replace('\\'', '')\n",
      "C:\\Users\\TylerFrankenberg\\AppData\\Local\\Temp\\ipykernel_62260\\3874129161.py:10: FutureWarning: The default value of regex will change from True to False in a future version.\n",
      "  county = county.str.replace(re, '')\n",
      "C:\\Users\\TylerFrankenberg\\AppData\\Local\\Temp\\ipykernel_62260\\3874129161.py:3: FutureWarning: The default value of regex will change from True to False in a future version.\n",
      "  county = county.loc[:, 0].str.replace('[ ]{2,}', ' ').str.replace(' ', ',').str.replace('\\'', '')\n",
      "C:\\Users\\TylerFrankenberg\\AppData\\Local\\Temp\\ipykernel_62260\\3874129161.py:10: FutureWarning: The default value of regex will change from True to False in a future version.\n",
      "  county = county.str.replace(re, '')\n",
      "C:\\Users\\TylerFrankenberg\\AppData\\Local\\Temp\\ipykernel_62260\\3874129161.py:3: FutureWarning: The default value of regex will change from True to False in a future version.\n",
      "  county = county.loc[:, 0].str.replace('[ ]{2,}', ' ').str.replace(' ', ',').str.replace('\\'', '')\n",
      "C:\\Users\\TylerFrankenberg\\AppData\\Local\\Temp\\ipykernel_62260\\3874129161.py:10: FutureWarning: The default value of regex will change from True to False in a future version.\n",
      "  county = county.str.replace(re, '')\n",
      "C:\\Users\\TylerFrankenberg\\AppData\\Local\\Temp\\ipykernel_62260\\3874129161.py:3: FutureWarning: The default value of regex will change from True to False in a future version.\n",
      "  county = county.loc[:, 0].str.replace('[ ]{2,}', ' ').str.replace(' ', ',').str.replace('\\'', '')\n",
      "C:\\Users\\TylerFrankenberg\\AppData\\Local\\Temp\\ipykernel_62260\\3874129161.py:10: FutureWarning: The default value of regex will change from True to False in a future version.\n",
      "  county = county.str.replace(re, '')\n"
     ]
    }
   ],
   "source": [
    "\n",
    "years = ['0405', '0506', '0607', '0708']\n",
    "data = [handle_dat('data/county_migration/unproc/countyinflow' + i + 'u.csv') for i in years]"
   ]
  },
  {
   "cell_type": "code",
   "execution_count": null,
   "metadata": {},
   "outputs": [],
   "source": [
    "for i in range(len(years)): \n",
    "    data[i][0].to_csv('data/county_migration/countyinflow' + years[i] + '.csv')"
   ]
  },
  {
   "cell_type": "code",
   "execution_count": 6,
   "metadata": {},
   "outputs": [
    {
     "name": "stderr",
     "output_type": "stream",
     "text": [
      "C:\\Users\\TylerFrankenberg\\AppData\\Local\\Temp\\ipykernel_62260\\3874129161.py:3: FutureWarning: The default value of regex will change from True to False in a future version.\n",
      "  county = county.loc[:, 0].str.replace('[ ]{2,}', ' ').str.replace(' ', ',').str.replace('\\'', '')\n",
      "C:\\Users\\TylerFrankenberg\\AppData\\Local\\Temp\\ipykernel_62260\\3874129161.py:10: FutureWarning: The default value of regex will change from True to False in a future version.\n",
      "  county = county.str.replace(re, '')\n",
      "C:\\Users\\TylerFrankenberg\\AppData\\Local\\Temp\\ipykernel_62260\\3874129161.py:3: FutureWarning: The default value of regex will change from True to False in a future version.\n",
      "  county = county.loc[:, 0].str.replace('[ ]{2,}', ' ').str.replace(' ', ',').str.replace('\\'', '')\n",
      "C:\\Users\\TylerFrankenberg\\AppData\\Local\\Temp\\ipykernel_62260\\3874129161.py:10: FutureWarning: The default value of regex will change from True to False in a future version.\n",
      "  county = county.str.replace(re, '')\n",
      "C:\\Users\\TylerFrankenberg\\AppData\\Local\\Temp\\ipykernel_62260\\3874129161.py:3: FutureWarning: The default value of regex will change from True to False in a future version.\n",
      "  county = county.loc[:, 0].str.replace('[ ]{2,}', ' ').str.replace(' ', ',').str.replace('\\'', '')\n",
      "C:\\Users\\TylerFrankenberg\\AppData\\Local\\Temp\\ipykernel_62260\\3874129161.py:10: FutureWarning: The default value of regex will change from True to False in a future version.\n",
      "  county = county.str.replace(re, '')\n",
      "C:\\Users\\TylerFrankenberg\\AppData\\Local\\Temp\\ipykernel_62260\\3874129161.py:3: FutureWarning: The default value of regex will change from True to False in a future version.\n",
      "  county = county.loc[:, 0].str.replace('[ ]{2,}', ' ').str.replace(' ', ',').str.replace('\\'', '')\n",
      "C:\\Users\\TylerFrankenberg\\AppData\\Local\\Temp\\ipykernel_62260\\3874129161.py:10: FutureWarning: The default value of regex will change from True to False in a future version.\n",
      "  county = county.str.replace(re, '')\n"
     ]
    }
   ],
   "source": [
    "\n",
    "years1 = [\"0405\", \"0506\", \"0607\", \"0708\", \"0809\", \"0910\", \"1011\", \"1112\", \"1213\", \"1314\", \"1415\", \"1516\", \"1617\", \"1718\", \"1819\", \"1920\"]\n",
    "data1 = [handle_dat('data/county_migration/unproc/countyinflow' + i + 'u.csv') for i in years]\n",
    "\n",
    "def handle_year(path, yr):\n",
    "    df = pd.read_csv(path, delimiter=',', header=0)\n",
    "    df['year'] = [yr for i in df]\n",
    " \n",
    "    return df\n",
    "\n"
   ]
  },
  {
   "cell_type": "code",
   "execution_count": 7,
   "metadata": {},
   "outputs": [],
   "source": [
    "for i in range(len(years)): \n",
    "    data[i][0].to_csv('data/county_migration/countyinflow' + years[i] + '.csv')"
   ]
  },
  {
   "cell_type": "code",
   "execution_count": null,
   "metadata": {},
   "outputs": [],
   "source": []
  },
  {
   "cell_type": "code",
   "execution_count": null,
   "metadata": {},
   "outputs": [],
   "source": []
  }
 ],
 "metadata": {
  "kernelspec": {
   "display_name": "MScapstone",
   "language": "python",
   "name": "python3"
  },
  "language_info": {
   "codemirror_mode": {
    "name": "ipython",
    "version": 3
   },
   "file_extension": ".py",
   "mimetype": "text/x-python",
   "name": "python",
   "nbconvert_exporter": "python",
   "pygments_lexer": "ipython3",
   "version": "3.10.4"
  },
  "orig_nbformat": 4,
  "vscode": {
   "interpreter": {
    "hash": "6b1820313b1c052a2be1db530bbef09ca566c2dafd25d2a80e60ca01b44301d2"
   }
  }
 },
 "nbformat": 4,
 "nbformat_minor": 2
}
