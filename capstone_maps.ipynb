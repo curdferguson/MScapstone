{
 "cells": [
  {
   "cell_type": "code",
   "execution_count": null,
   "metadata": {},
   "outputs": [],
   "source": [
    "# load packages\n",
    "import pandas as pd\n",
    "import numpy as np\n",
    "import plotly.express as px\n",
    "import plotly.graph_objects as go\n",
    "import plotly.figure_factory as ff"
   ]
  },
  {
   "cell_type": "code",
   "execution_count": null,
   "metadata": {},
   "outputs": [],
   "source": [
    "# get counties boundaries\n",
    "import urllib3\n",
    "import json\n",
    "\n",
    "http = urllib3.PoolManager()\n",
    "response = http.request('GET', 'https://raw.githubusercontent.com/plotly/datasets/master/geojson-counties-fips.json')\n",
    "counties = json.loads(response.data.decode('utf-8'))"
   ]
  },
  {
   "cell_type": "code",
   "execution_count": null,
   "metadata": {},
   "outputs": [],
   "source": [
    "%store -r pat1019\n",
    "%store -r pat_scatter\n",
    "%store -r cicc_scatter"
   ]
  },
  {
   "cell_type": "code",
   "execution_count": null,
   "metadata": {},
   "outputs": [],
   "source": [
    "cicc_scatter = cicc_scatter[cicc_scatter['burd_upmed'] < 241000]\n",
    "\n",
    "cicc_scatter['ai_activity_class'] = 0\n",
    "cicc_scatter.loc[cicc_scatter['aippk_2011'] > 0, 'ai_activity_class'] = 1\n",
    "\n",
    "cicc_scatterai = cicc_scatter[cicc_scatter['ai_activity_class'] == 1]"
   ]
  },
  {
   "cell_type": "code",
   "execution_count": null,
   "metadata": {},
   "outputs": [],
   "source": [
    "tax = cicc_scatter[['burd_upmed']]\n",
    "tax_subs = dict(zip(list(tax.columns), ['AGI: 100k+']))\n",
    "# Visualization\n",
    "\n",
    "for col in tax.columns:\n",
    "\n",
    "    fig = px.choropleth(tax, geojson=counties, locations=tax.index, color=col,\n",
    "                        color_continuous_scale=\"BuPu\",\n",
    "                        #range_color=(tax[col].quantile(0.05), tax[col].quantile(0.95)),\n",
    "                        range_color=(0.005, 0.075),\n",
    "                        scope=\"usa\",\n",
    "                        labels={col: 'Relative Tax Burden'}\n",
    "                        )\n",
    "    fig.update_layout(title=f'Relative Tax Burden on Individuals, 2011-2019<br><sup>{tax_subs[col]}</sup>',\n",
    "                      autosize=False,\n",
    "                      width=800,\n",
    "                      height=600)\n",
    "    fig.show()"
   ]
  },
  {
   "cell_type": "code",
   "execution_count": null,
   "metadata": {},
   "outputs": [],
   "source": [
    "mhv = cicc_scatter[['med_home_val_2011', 'pct_chg_mhv']]\n",
    "mhv_subs = dict(zip(list(mhv.columns), ['Median Home Value, 2011', 'Median Home Price Growth, 2011-2019']))\n",
    "# Visualization\n",
    "\n",
    "for col in mhv.columns:\n",
    "\n",
    "    fig = px.choropleth(mhv, geojson=counties, locations=mhv.index, color=col,\n",
    "                        color_continuous_scale=\"BuPu\",\n",
    "                        range_color=(mhv[col].quantile(0.05), mhv[col].quantile(0.95)),\n",
    "                        #range_color=(0.005, 0.075),\n",
    "                        scope=\"usa\"\n",
    "                        )\n",
    "    fig.update_layout(title=f'{mhv_subs[col]}',\n",
    "                      autosize=False,\n",
    "                      width=800,\n",
    "                      height=600)\n",
    "    fig.show()"
   ]
  }
 ],
 "metadata": {
  "language_info": {
   "name": "python"
  },
  "orig_nbformat": 4
 },
 "nbformat": 4,
 "nbformat_minor": 2
}
