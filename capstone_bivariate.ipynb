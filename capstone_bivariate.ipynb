{
 "cells": [
  {
   "cell_type": "code",
   "execution_count": null,
   "metadata": {},
   "outputs": [],
   "source": [
    "# load packages\n",
    "import pandas as pd\n",
    "import numpy as np\n",
    "import plotly.express as px\n",
    "import plotly.graph_objects as go"
   ]
  },
  {
   "attachments": {},
   "cell_type": "markdown",
   "metadata": {},
   "source": [
    "**Domestic Migration**"
   ]
  },
  {
   "cell_type": "code",
   "execution_count": null,
   "metadata": {},
   "outputs": [],
   "source": [
    "cp19 = cp[cp['year'] == 2019][['FIPS', 'DOMESTICMIG', 'POPESTIMATE']].groupby('FIPS').agg(sum)\n",
    "cpna = cp19.join(na1999)\n",
    "\n",
    "cpna = cpna.assign(dm_norm = cpna['DOMESTICMIG'] / cpna['POPESTIMATE'])\n",
    "cpna.head(10)\n",
    "cpna.describe()"
   ]
  },
  {
   "cell_type": "code",
   "execution_count": null,
   "metadata": {},
   "outputs": [],
   "source": [
    "\n",
    "def na_col_convert(i):\n",
    "    if i < -1.43:\n",
    "        return 'A'\n",
    "    elif (i >= -1.43) & (i < 1.10):\n",
    "        return 'B'\n",
    "    elif i >= 1.10:\n",
    "        return 'C'\n",
    "    else:\n",
    "        return None\n",
    "    \n",
    "def ci_col_convert(i):\n",
    "    if i < -0.005968:\n",
    "        return '1'\n",
    "    elif (i >= -0.005968) & (i < 0.005456):\n",
    "        return '2'\n",
    "    elif i >= 0.005456:\n",
    "        return '3'\n",
    "    else:\n",
    "        return None\n",
    "\n",
    "cpna = cpna.assign(na_color = cpna['NatAmenScale'].apply(na_col_convert),\\\n",
    "                       ci_color = cpna['dm_norm'].apply(ci_col_convert))\n",
    "                      \n",
    "cpna['color'] = cpna['na_color'] + cpna['ci_color']\n",
    "cpna.head(10)\n",
    "\n",
    "list1 = ['A1', 'A2', 'A3', 'B1', 'B2', 'B3', 'C1', 'C2', 'C3']\n",
    "list2 = ['#e8e8e8', '#dfb0d6', '#be64ac', '#ace4e4', '#a5add3', '#8c62aa', '#5ac8c8', '#5698b9', '#3b4994']\n",
    "color_dict = dict(zip(list1, list2))\n",
    "\n",
    "cpna.head(10)"
   ]
  },
  {
   "cell_type": "code",
   "execution_count": null,
   "metadata": {},
   "outputs": [],
   "source": [
    "# Visualization\n",
    "fig = px.choropleth(cpna, geojson=counties, locations=cpna.index, color='color',\n",
    "                           color_discrete_map = color_dict,\n",
    "                           scope=\"usa\",\n",
    "                           labels={'color': 'Migration - Natural Amenities'}\n",
    "                          )\n",
    "fig.show()"
   ]
  },
  {
   "cell_type": "code",
   "execution_count": null,
   "metadata": {},
   "outputs": [],
   "source": [
    "threes = cpna[cpna['color'].isin(['A3', 'B3', 'C3'])]\n",
    "\n",
    "# Visualization\n",
    "fig1 = px.choropleth(threes, geojson=counties, locations=threes.index, color='color',\n",
    "                           color_discrete_map = color_dict,\n",
    "                           scope=\"usa\",\n",
    "                           labels={'color': 'Migration - Natural Amenities'}\n",
    "                          )\n",
    "fig1.show()"
   ]
  }
 ],
 "metadata": {
  "kernelspec": {
   "display_name": "MSCapstone",
   "language": "python",
   "name": "python3"
  },
  "language_info": {
   "codemirror_mode": {
    "name": "ipython",
    "version": 3
   },
   "file_extension": ".py",
   "mimetype": "text/x-python",
   "name": "python",
   "nbconvert_exporter": "python",
   "pygments_lexer": "ipython3",
   "version": "3.10.4"
  },
  "orig_nbformat": 4
 },
 "nbformat": 4,
 "nbformat_minor": 2
}
